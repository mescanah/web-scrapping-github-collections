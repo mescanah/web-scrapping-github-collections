{
 "cells": [
  {
   "cell_type": "markdown",
   "metadata": {},
   "source": [
    "# Scraping Popular Github Collections Using Python\n",
    "\n",
    "\n",
    "Use the \"Run\" button to execute the code."
   ]
  },
  {
   "cell_type": "markdown",
   "metadata": {},
   "source": [
    "![](https://i.imgur.com/nbD2Aad.png)"
   ]
  },
  {
   "cell_type": "code",
   "execution_count": 1,
   "metadata": {},
   "outputs": [],
   "source": [
    "!pip install jovian --upgrade --quiet"
   ]
  },
  {
   "cell_type": "code",
   "execution_count": 2,
   "metadata": {},
   "outputs": [],
   "source": [
    "import jovian"
   ]
  },
  {
   "cell_type": "code",
   "execution_count": 1,
   "metadata": {},
   "outputs": [
    {
     "data": {
      "application/javascript": [
       "window.require && require([\"base/js/namespace\"],function(Jupyter){Jupyter.notebook.save_checkpoint()})"
      ],
      "text/plain": [
       "<IPython.core.display.Javascript object>"
      ]
     },
     "metadata": {},
     "output_type": "display_data"
    },
    {
     "name": "stdout",
     "output_type": "stream",
     "text": [
      "[jovian] Creating a new project \"mescanah/Scraping popular GitHub Collections Using Python\"\u001b[0m\n",
      "[jovian] Committed successfully! https://jovian.ai/mescanah/scraping-popular-github-collections-using-python\u001b[0m\n"
     ]
    },
    {
     "data": {
      "text/plain": [
       "'https://jovian.ai/mescanah/scraping-popular-github-collections-using-python'"
      ]
     },
     "execution_count": 1,
     "metadata": {},
     "output_type": "execute_result"
    }
   ],
   "source": [
    "# Execute this to save new versions of the notebook\n",
    "jovian.commit(project=\"Scraping popular GitHub Collections Using Python\")"
   ]
  },
  {
   "cell_type": "markdown",
   "metadata": {},
   "source": []
  },
  {
   "cell_type": "markdown",
   "metadata": {},
   "source": [
    "## Outline and Objective of my web scrapping project:\n",
    "\n",
    "## website to be scraped https://github.com/collections \n",
    "\n",
    "- I will scrape the collections title, Collection description, and the page Url  \n",
    "\n",
    "- for each Collections  I will get the top 20 repositories in the Collection page\n",
    "\n",
    "- For each repositories, I would get the Repo name, Username and  the Url page.\n",
    "\n",
    "- For each of the GitHub Collection I will create a CSV file in the following format:\n",
    "\n",
    "Repo name,Username,Repo Url\n",
    "\n",
    "Rust,Rust-Lang,https://github.com/rust-lang/rust\n",
    "\n",
    "HospitalRun,Hospitalrun-frontend,https://github.com/HospitalRun/hospitalrun-frontend\n"
   ]
  },
  {
   "cell_type": "markdown",
   "metadata": {},
   "source": []
  },
  {
   "cell_type": "markdown",
   "metadata": {},
   "source": [
    "## Use the requests library to download web pages\n",
    "\n",
    "- I Inspected the website's HTML source and identify the right URLs to download.\n",
    "\n",
    "\n",
    "- I downloaded and save web pages locally using the requests library.\n",
    "\n",
    "\n",
    "- I Created a function to automate downloading for different GitHub Collections."
   ]
  },
  {
   "cell_type": "code",
   "execution_count": 3,
   "metadata": {},
   "outputs": [],
   "source": [
    "!pip install requests --upgrade --quiet"
   ]
  },
  {
   "cell_type": "code",
   "execution_count": 4,
   "metadata": {},
   "outputs": [],
   "source": [
    "import requests"
   ]
  },
  {
   "cell_type": "code",
   "execution_count": 5,
   "metadata": {},
   "outputs": [],
   "source": [
    "Collections_url = 'https://github.com/collections'"
   ]
  },
  {
   "cell_type": "code",
   "execution_count": 6,
   "metadata": {},
   "outputs": [],
   "source": [
    "response = requests.get(Collections_url )"
   ]
  },
  {
   "cell_type": "code",
   "execution_count": 9,
   "metadata": {},
   "outputs": [
    {
     "data": {
      "text/plain": [
       "200"
      ]
     },
     "execution_count": 9,
     "metadata": {},
     "output_type": "execute_result"
    }
   ],
   "source": [
    "response.status_code"
   ]
  },
  {
   "cell_type": "code",
   "execution_count": 7,
   "metadata": {},
   "outputs": [
    {
     "data": {
      "text/plain": [
       "95762"
      ]
     },
     "execution_count": 7,
     "metadata": {},
     "output_type": "execute_result"
    }
   ],
   "source": [
    "len(response.text)"
   ]
  },
  {
   "cell_type": "code",
   "execution_count": 8,
   "metadata": {},
   "outputs": [],
   "source": [
    "page_contents = response.text"
   ]
  },
  {
   "cell_type": "code",
   "execution_count": 10,
   "metadata": {},
   "outputs": [
    {
     "data": {
      "text/plain": [
       "'\\n\\n<!DOCTYPE html>\\n<html lang=\"en\" data-color-mode=\"auto\" data-light-theme=\"light\" data-dark-theme=\"dark\" data-a11y-animated-images=\"system\">\\n  <head>\\n    <meta charset=\"utf-8\">\\n  <link rel=\"dns-prefetch\" href=\"https://github.githubassets.com\">\\n  <link rel=\"dns-prefetch\" href=\"https://avatars.githubusercontent.com\">\\n  <link rel=\"dns-prefetch\" href=\"https://github-cloud.s3.amazonaws.com\">\\n  <link rel=\"dns-prefetch\" href=\"https://user-images.githubusercontent.com/\">\\n  <link rel=\"preconnect\" href=\"https://github.githubassets.com\" crossorigin>\\n  <link rel=\"preconnect\" href=\"https://avatars.githubusercontent.com\">\\n\\n\\n\\n  <link crossorigin=\"anonymous\" media=\"all\" rel=\"stylesheet\" href=\"https://github.githubassets.com/assets/light-719f1193e0c0.css\" /><link crossorigin=\"anonymous\" media=\"all\" rel=\"stylesheet\" href=\"https://github.githubassets.com/assets/dark-0c343b529849.css\" /><link data-color-theme=\"dark_dimmed\" crossorigin=\"anonymous\" media=\"all\" rel=\"stylesheet\" data-href=\"https://github.gith'"
      ]
     },
     "execution_count": 10,
     "metadata": {},
     "output_type": "execute_result"
    }
   ],
   "source": [
    "page_contents[:1000]"
   ]
  },
  {
   "cell_type": "code",
   "execution_count": 11,
   "metadata": {},
   "outputs": [],
   "source": [
    "with open('webpageGitHubcollection.html', 'w') as f:\n",
    "    f.write(page_contents)"
   ]
  },
  {
   "cell_type": "code",
   "execution_count": null,
   "metadata": {},
   "outputs": [],
   "source": []
  },
  {
   "cell_type": "markdown",
   "metadata": {},
   "source": [
    "## Use Beautiful Soup to parse and extract information\n",
    "\n",
    "-I Parsed and explored the structure of downloaded web pages using Beautiful soup.\n",
    "\n",
    "\n",
    "-I Used the right properties and methods to extract the required information.\n",
    "\n",
    "\n",
    "-I created functions to extract from the page into lists and dictionaries. "
   ]
  },
  {
   "cell_type": "code",
   "execution_count": 12,
   "metadata": {},
   "outputs": [],
   "source": [
    "!pip install beautifulsoup4 --upgrade --quiet"
   ]
  },
  {
   "cell_type": "code",
   "execution_count": 13,
   "metadata": {},
   "outputs": [],
   "source": [
    "from bs4 import BeautifulSoup"
   ]
  },
  {
   "cell_type": "code",
   "execution_count": 14,
   "metadata": {},
   "outputs": [],
   "source": [
    "doc = BeautifulSoup(page_contents, 'html.parser')"
   ]
  },
  {
   "cell_type": "markdown",
   "metadata": {},
   "source": [
    "## Scraping the h2 tag for Title"
   ]
  },
  {
   "cell_type": "markdown",
   "metadata": {},
   "source": [
    "![](https://i.imgur.com/oxbAB25.png)"
   ]
  },
  {
   "cell_type": "markdown",
   "metadata": {},
   "source": [
    "![](https://i.imgur.com/3BgTowS.png)"
   ]
  },
  {
   "cell_type": "code",
   "execution_count": 15,
   "metadata": {},
   "outputs": [],
   "source": [
    "Colect_title_tag = doc.find_all('h2', class_ = 'h3')"
   ]
  },
  {
   "cell_type": "code",
   "execution_count": 16,
   "metadata": {},
   "outputs": [
    {
     "data": {
      "text/plain": [
       "20"
      ]
     },
     "execution_count": 16,
     "metadata": {},
     "output_type": "execute_result"
    }
   ],
   "source": [
    "len(Colect_title_tag)"
   ]
  },
  {
   "cell_type": "code",
   "execution_count": 17,
   "metadata": {},
   "outputs": [
    {
     "data": {
      "text/plain": [
       "[<h2 class=\"h3\"><a data-ga-click=\"Explore, go to collection, text:How to choose (and contribute to) your first open source project\" href=\"/collections/choosing-projects\">How to choose (and contribute to) your first open source project</a></h2>]"
      ]
     },
     "execution_count": 17,
     "metadata": {},
     "output_type": "execute_result"
    }
   ],
   "source": [
    "Colect_title_tag[:1]"
   ]
  },
  {
   "cell_type": "code",
   "execution_count": 17,
   "metadata": {},
   "outputs": [
    {
     "data": {
      "text/plain": [
       "<h2 class=\"h3\"><a data-ga-click=\"Explore, go to collection, text:How to choose (and contribute to) your first open source project\" href=\"/collections/choosing-projects\">How to choose (and contribute to) your first open source project</a></h2>"
      ]
     },
     "execution_count": 17,
     "metadata": {},
     "output_type": "execute_result"
    }
   ],
   "source": [
    "Colect_title_tag[0]"
   ]
  },
  {
   "cell_type": "code",
   "execution_count": 18,
   "metadata": {},
   "outputs": [
    {
     "data": {
      "text/plain": [
       "'How to choose (and contribute to) your first open source project'"
      ]
     },
     "execution_count": 18,
     "metadata": {},
     "output_type": "execute_result"
    }
   ],
   "source": [
    "Colect_title_tag[0].text"
   ]
  },
  {
   "cell_type": "markdown",
   "metadata": {},
   "source": [
    "## Creating function to extract the title tag"
   ]
  },
  {
   "cell_type": "code",
   "execution_count": 21,
   "metadata": {},
   "outputs": [],
   "source": [
    "def get_collection_title():\n",
    "    \n",
    "    Colect_title_tag = doc.find_all('h2', class_ = 'h3')\n",
    "    \n",
    "    Colect_title_tag[0].text\n",
    "    \n",
    "    Collection_title = [ ]\n",
    "    \n",
    "    for title in  Colect_title_tag:\n",
    "        \n",
    "        Collection_title.append(title.get_text())\n",
    "        \n",
    "    \n",
    "    return Collection_title"
   ]
  },
  {
   "cell_type": "code",
   "execution_count": 22,
   "metadata": {},
   "outputs": [
    {
     "data": {
      "text/plain": [
       "['How to choose (and contribute to) your first open source project',\n",
       " 'Clean code linters',\n",
       " 'Open journalism',\n",
       " 'Design essentials',\n",
       " 'Music',\n",
       " 'Government apps',\n",
       " 'DevOps tools',\n",
       " 'Front-end JavaScript frameworks',\n",
       " 'GitHub Browser Extensions',\n",
       " 'GitHub Pages examples',\n",
       " 'Hacking Minecraft',\n",
       " 'JavaScript Game Engines',\n",
       " 'Learn to Code',\n",
       " 'Getting started with machine learning',\n",
       " 'Made in Africa',\n",
       " 'Net neutrality',\n",
       " 'Open data',\n",
       " 'Open source organizations',\n",
       " 'Policies',\n",
       " 'Software productivity tools']"
      ]
     },
     "execution_count": 22,
     "metadata": {},
     "output_type": "execute_result"
    }
   ],
   "source": [
    "Collection_titl = get_collection_title()\n",
    "Collection_titl"
   ]
  },
  {
   "cell_type": "markdown",
   "metadata": {},
   "source": [
    "## Scrapping the Div tag for Description"
   ]
  },
  {
   "cell_type": "markdown",
   "metadata": {},
   "source": [
    "![](https://i.imgur.com/XD818Xh.png)"
   ]
  },
  {
   "cell_type": "markdown",
   "metadata": {},
   "source": [
    "![](https://i.imgur.com/aVSLN8y.png)"
   ]
  },
  {
   "cell_type": "code",
   "execution_count": 23,
   "metadata": {},
   "outputs": [],
   "source": [
    "Collect_description_tag = doc.find_all('div', class_ = 'col-10 col-md-11')"
   ]
  },
  {
   "cell_type": "code",
   "execution_count": 32,
   "metadata": {},
   "outputs": [
    {
     "data": {
      "text/plain": [
       "[<div class=\"col-10 col-md-11\">\n",
       " <h2 class=\"h3\"><a data-ga-click=\"Explore, go to collection, text:How to choose (and contribute to) your first open source project\" href=\"/collections/choosing-projects\">How to choose (and contribute to) your first open source project</a></h2>\n",
       "       New to open source? Here’s how to find projects that need help and start making impactful contributions.\n",
       "     </div>]"
      ]
     },
     "execution_count": 32,
     "metadata": {},
     "output_type": "execute_result"
    }
   ],
   "source": [
    "Collect_description_tag[:1]"
   ]
  },
  {
   "cell_type": "code",
   "execution_count": 24,
   "metadata": {},
   "outputs": [
    {
     "data": {
      "text/plain": [
       "<div class=\"col-10 col-md-11\">\n",
       "<h2 class=\"h3\"><a data-ga-click=\"Explore, go to collection, text:How to choose (and contribute to) your first open source project\" href=\"/collections/choosing-projects\">How to choose (and contribute to) your first open source project</a></h2>\n",
       "      New to open source? Here’s how to find projects that need help and start making impactful contributions.\n",
       "    </div>"
      ]
     },
     "execution_count": 24,
     "metadata": {},
     "output_type": "execute_result"
    }
   ],
   "source": [
    "Collect_description_tag[0]"
   ]
  },
  {
   "cell_type": "code",
   "execution_count": 25,
   "metadata": {},
   "outputs": [],
   "source": [
    "def get_description_tag():\n",
    "    \n",
    "    Collect_description_tag = doc.find_all('div', class_ = 'col-10 col-md-11')\n",
    "    \n",
    "    Collect_description_tag[0].find_all(text= True, recursive = True)[2].strip()\n",
    "    \n",
    "    Collection_descript = []\n",
    "    \n",
    "    for i in Collect_description_tag:\n",
    "        \n",
    "        Collection_descript.append(i.find_all(text= True, recursive = True)[2].strip())\n",
    "    \n",
    "    return Collection_descript\n",
    "    "
   ]
  },
  {
   "cell_type": "code",
   "execution_count": 26,
   "metadata": {},
   "outputs": [
    {
     "data": {
      "text/plain": [
       "['New to open source? Here’s how to find projects that need help and start making impactful contributions.',\n",
       " 'Make sure your code matches your style guide with these essential code linters.',\n",
       " 'See how publications and data-driven journalists use open source to power their newsroom and ensure information is reported fairly and accurately.',\n",
       " 'This collection of design libraries are the best on the web, and will complete your toolset for designing stunning products.',\n",
       " 'Drop the code bass with these musically themed repositories.',\n",
       " 'Sites, apps, and tools built by governments across the world to make government work better, together. Read more at https://government.github.com',\n",
       " 'These tools help you manage servers and deploy happier and more often with more confidence.',\n",
       " 'While the number of ways to organize JavaScript is almost infinite, here are some tools that help you build single-page applications.',\n",
       " 'Some useful and fun browser extensions to personalize your GitHub browser experience.',\n",
       " 'Fine examples of projects using GitHub Pages (https://pages.github.com).',\n",
       " 'Minecraft is a game about building blocks, but it doesn’t end there. Take Minecraft further with some of the projects below, or dive into the code mines and hammer your own!',\n",
       " 'Learn or level up your 1337 gamedev skills and build amazing games together for web, desktop, or mobile using these HTML5 / JavaScript game engines.',\n",
       " 'Resources to help people learn to code',\n",
       " 'Today, machine learning—the study of algorithms that make data-based predictions—has found a new audience and a new set of possibilities.',\n",
       " \"Developers in Africa use open source technology to solve some of the world's most intractable problems and grow their business ecosystems. Here's a snapshot of local projects across the continent.\",\n",
       " 'Software, research, and organizations protecting the free and open internet.',\n",
       " 'Examples of using GitHub to store, publish, and collaborate on open, machine-readable datasets',\n",
       " 'A showcase of organizations showcasing their open source projects.',\n",
       " 'From federal governments to corporations to student clubs, groups of all sizes are using GitHub to share, discuss, and improve laws. *Ask not what the repository can do for you...*',\n",
       " 'Build software faster with fewer headaches, using these tools and tricks']"
      ]
     },
     "execution_count": 26,
     "metadata": {},
     "output_type": "execute_result"
    }
   ],
   "source": [
    "Collect_description = get_description_tag()\n",
    "Collect_description"
   ]
  },
  {
   "cell_type": "markdown",
   "metadata": {},
   "source": [
    "## Scrapping the a tag for href link"
   ]
  },
  {
   "cell_type": "markdown",
   "metadata": {},
   "source": [
    "![](https://i.imgur.com/gZQw685.png)"
   ]
  },
  {
   "cell_type": "markdown",
   "metadata": {},
   "source": [
    "![](https://i.imgur.com/4ww4REd.png)"
   ]
  },
  {
   "cell_type": "code",
   "execution_count": 27,
   "metadata": {},
   "outputs": [],
   "source": [
    "Colect_link_tag = doc.find_all('h2', {'class': 'h3'})"
   ]
  },
  {
   "cell_type": "code",
   "execution_count": 28,
   "metadata": {},
   "outputs": [
    {
     "data": {
      "text/plain": [
       "<a data-ga-click=\"Explore, go to collection, text:Clean code linters\" href=\"/collections/clean-code-linters\">Clean code linters</a>"
      ]
     },
     "execution_count": 28,
     "metadata": {},
     "output_type": "execute_result"
    }
   ],
   "source": [
    "Colect_link_tag[1].find('a')"
   ]
  },
  {
   "cell_type": "code",
   "execution_count": 29,
   "metadata": {},
   "outputs": [
    {
     "data": {
      "text/plain": [
       "'/collections/clean-code-linters'"
      ]
     },
     "execution_count": 29,
     "metadata": {},
     "output_type": "execute_result"
    }
   ],
   "source": [
    "Colect_link_tag[1].find('a')['href']"
   ]
  },
  {
   "cell_type": "code",
   "execution_count": 30,
   "metadata": {},
   "outputs": [],
   "source": [
    "def get_link_tag():\n",
    "    \n",
    "    Colect_link_tag = doc.find_all('h2', {'class': 'h3'})\n",
    "    \n",
    "    Colect_link_tag[1].find('a')\n",
    "    \n",
    "    Colect_link_tag[1].find('a')['href']\n",
    "    \n",
    "    base_url = 'https://github.com'\n",
    "    \n",
    "    collection_url = []\n",
    "\n",
    "    for link in Colect_link_tag:\n",
    "        \n",
    "        collection_url.append(base_url + link.find('a')['href'])\n",
    "\n",
    "    return  collection_url\n",
    "    \n",
    "    "
   ]
  },
  {
   "cell_type": "code",
   "execution_count": 31,
   "metadata": {},
   "outputs": [
    {
     "data": {
      "text/plain": [
       "['https://github.com/collections/choosing-projects',\n",
       " 'https://github.com/collections/clean-code-linters',\n",
       " 'https://github.com/collections/open-journalism',\n",
       " 'https://github.com/collections/design-essentials',\n",
       " 'https://github.com/collections/music',\n",
       " 'https://github.com/collections/government',\n",
       " 'https://github.com/collections/devops-tools',\n",
       " 'https://github.com/collections/front-end-javascript-frameworks',\n",
       " 'https://github.com/collections/github-browser-extensions',\n",
       " 'https://github.com/collections/github-pages-examples',\n",
       " 'https://github.com/collections/hacking-minecraft',\n",
       " 'https://github.com/collections/javascript-game-engines',\n",
       " 'https://github.com/collections/learn-to-code',\n",
       " 'https://github.com/collections/machine-learning',\n",
       " 'https://github.com/collections/made-in-africa',\n",
       " 'https://github.com/collections/net-neutrality',\n",
       " 'https://github.com/collections/open-data',\n",
       " 'https://github.com/collections/open-source-organizations',\n",
       " 'https://github.com/collections/policies',\n",
       " 'https://github.com/collections/productivity-tools']"
      ]
     },
     "execution_count": 31,
     "metadata": {},
     "output_type": "execute_result"
    }
   ],
   "source": [
    "collect_url =  get_link_tag() \n",
    "collect_url   "
   ]
  },
  {
   "cell_type": "markdown",
   "metadata": {},
   "source": [
    "## Putting the various tags in Pandas Frame"
   ]
  },
  {
   "cell_type": "code",
   "execution_count": 32,
   "metadata": {},
   "outputs": [],
   "source": [
    "!pip install pandas --quiet"
   ]
  },
  {
   "cell_type": "code",
   "execution_count": 33,
   "metadata": {},
   "outputs": [],
   "source": [
    "import pandas as pd"
   ]
  },
  {
   "cell_type": "code",
   "execution_count": 34,
   "metadata": {},
   "outputs": [],
   "source": [
    "collection_dict = {'title': Collection_titl, \n",
    "                   \n",
    "                   'description': Collect_description,\n",
    "                   \n",
    "                   'url': collect_url\n",
    "                   \n",
    "                    }"
   ]
  },
  {
   "cell_type": "code",
   "execution_count": 35,
   "metadata": {},
   "outputs": [],
   "source": [
    "Collection_df = pd.DataFrame(collection_dict)"
   ]
  },
  {
   "cell_type": "code",
   "execution_count": 36,
   "metadata": {},
   "outputs": [
    {
     "data": {
      "text/html": [
       "<div>\n",
       "<style scoped>\n",
       "    .dataframe tbody tr th:only-of-type {\n",
       "        vertical-align: middle;\n",
       "    }\n",
       "\n",
       "    .dataframe tbody tr th {\n",
       "        vertical-align: top;\n",
       "    }\n",
       "\n",
       "    .dataframe thead th {\n",
       "        text-align: right;\n",
       "    }\n",
       "</style>\n",
       "<table border=\"1\" class=\"dataframe\">\n",
       "  <thead>\n",
       "    <tr style=\"text-align: right;\">\n",
       "      <th></th>\n",
       "      <th>title</th>\n",
       "      <th>description</th>\n",
       "      <th>url</th>\n",
       "    </tr>\n",
       "  </thead>\n",
       "  <tbody>\n",
       "    <tr>\n",
       "      <th>0</th>\n",
       "      <td>How to choose (and contribute to) your first o...</td>\n",
       "      <td>New to open source? Here’s how to find project...</td>\n",
       "      <td>https://github.com/collections/choosing-projects</td>\n",
       "    </tr>\n",
       "    <tr>\n",
       "      <th>1</th>\n",
       "      <td>Clean code linters</td>\n",
       "      <td>Make sure your code matches your style guide w...</td>\n",
       "      <td>https://github.com/collections/clean-code-linters</td>\n",
       "    </tr>\n",
       "    <tr>\n",
       "      <th>2</th>\n",
       "      <td>Open journalism</td>\n",
       "      <td>See how publications and data-driven journalis...</td>\n",
       "      <td>https://github.com/collections/open-journalism</td>\n",
       "    </tr>\n",
       "    <tr>\n",
       "      <th>3</th>\n",
       "      <td>Design essentials</td>\n",
       "      <td>This collection of design libraries are the be...</td>\n",
       "      <td>https://github.com/collections/design-essentials</td>\n",
       "    </tr>\n",
       "    <tr>\n",
       "      <th>4</th>\n",
       "      <td>Music</td>\n",
       "      <td>Drop the code bass with these musically themed...</td>\n",
       "      <td>https://github.com/collections/music</td>\n",
       "    </tr>\n",
       "    <tr>\n",
       "      <th>5</th>\n",
       "      <td>Government apps</td>\n",
       "      <td>Sites, apps, and tools built by governments ac...</td>\n",
       "      <td>https://github.com/collections/government</td>\n",
       "    </tr>\n",
       "    <tr>\n",
       "      <th>6</th>\n",
       "      <td>DevOps tools</td>\n",
       "      <td>These tools help you manage servers and deploy...</td>\n",
       "      <td>https://github.com/collections/devops-tools</td>\n",
       "    </tr>\n",
       "    <tr>\n",
       "      <th>7</th>\n",
       "      <td>Front-end JavaScript frameworks</td>\n",
       "      <td>While the number of ways to organize JavaScrip...</td>\n",
       "      <td>https://github.com/collections/front-end-javas...</td>\n",
       "    </tr>\n",
       "    <tr>\n",
       "      <th>8</th>\n",
       "      <td>GitHub Browser Extensions</td>\n",
       "      <td>Some useful and fun browser extensions to pers...</td>\n",
       "      <td>https://github.com/collections/github-browser-...</td>\n",
       "    </tr>\n",
       "    <tr>\n",
       "      <th>9</th>\n",
       "      <td>GitHub Pages examples</td>\n",
       "      <td>Fine examples of projects using GitHub Pages (...</td>\n",
       "      <td>https://github.com/collections/github-pages-ex...</td>\n",
       "    </tr>\n",
       "    <tr>\n",
       "      <th>10</th>\n",
       "      <td>Hacking Minecraft</td>\n",
       "      <td>Minecraft is a game about building blocks, but...</td>\n",
       "      <td>https://github.com/collections/hacking-minecraft</td>\n",
       "    </tr>\n",
       "    <tr>\n",
       "      <th>11</th>\n",
       "      <td>JavaScript Game Engines</td>\n",
       "      <td>Learn or level up your 1337 gamedev skills and...</td>\n",
       "      <td>https://github.com/collections/javascript-game...</td>\n",
       "    </tr>\n",
       "    <tr>\n",
       "      <th>12</th>\n",
       "      <td>Learn to Code</td>\n",
       "      <td>Resources to help people learn to code</td>\n",
       "      <td>https://github.com/collections/learn-to-code</td>\n",
       "    </tr>\n",
       "    <tr>\n",
       "      <th>13</th>\n",
       "      <td>Getting started with machine learning</td>\n",
       "      <td>Today, machine learning—the study of algorithm...</td>\n",
       "      <td>https://github.com/collections/machine-learning</td>\n",
       "    </tr>\n",
       "    <tr>\n",
       "      <th>14</th>\n",
       "      <td>Made in Africa</td>\n",
       "      <td>Developers in Africa use open source technolog...</td>\n",
       "      <td>https://github.com/collections/made-in-africa</td>\n",
       "    </tr>\n",
       "    <tr>\n",
       "      <th>15</th>\n",
       "      <td>Net neutrality</td>\n",
       "      <td>Software, research, and organizations protecti...</td>\n",
       "      <td>https://github.com/collections/net-neutrality</td>\n",
       "    </tr>\n",
       "    <tr>\n",
       "      <th>16</th>\n",
       "      <td>Open data</td>\n",
       "      <td>Examples of using GitHub to store, publish, an...</td>\n",
       "      <td>https://github.com/collections/open-data</td>\n",
       "    </tr>\n",
       "    <tr>\n",
       "      <th>17</th>\n",
       "      <td>Open source organizations</td>\n",
       "      <td>A showcase of organizations showcasing their o...</td>\n",
       "      <td>https://github.com/collections/open-source-org...</td>\n",
       "    </tr>\n",
       "    <tr>\n",
       "      <th>18</th>\n",
       "      <td>Policies</td>\n",
       "      <td>From federal governments to corporations to st...</td>\n",
       "      <td>https://github.com/collections/policies</td>\n",
       "    </tr>\n",
       "    <tr>\n",
       "      <th>19</th>\n",
       "      <td>Software productivity tools</td>\n",
       "      <td>Build software faster with fewer headaches, us...</td>\n",
       "      <td>https://github.com/collections/productivity-tools</td>\n",
       "    </tr>\n",
       "  </tbody>\n",
       "</table>\n",
       "</div>"
      ],
      "text/plain": [
       "                                                title  \\\n",
       "0   How to choose (and contribute to) your first o...   \n",
       "1                                  Clean code linters   \n",
       "2                                     Open journalism   \n",
       "3                                   Design essentials   \n",
       "4                                               Music   \n",
       "5                                     Government apps   \n",
       "6                                        DevOps tools   \n",
       "7                     Front-end JavaScript frameworks   \n",
       "8                           GitHub Browser Extensions   \n",
       "9                               GitHub Pages examples   \n",
       "10                                  Hacking Minecraft   \n",
       "11                            JavaScript Game Engines   \n",
       "12                                      Learn to Code   \n",
       "13              Getting started with machine learning   \n",
       "14                                     Made in Africa   \n",
       "15                                     Net neutrality   \n",
       "16                                          Open data   \n",
       "17                          Open source organizations   \n",
       "18                                           Policies   \n",
       "19                        Software productivity tools   \n",
       "\n",
       "                                          description  \\\n",
       "0   New to open source? Here’s how to find project...   \n",
       "1   Make sure your code matches your style guide w...   \n",
       "2   See how publications and data-driven journalis...   \n",
       "3   This collection of design libraries are the be...   \n",
       "4   Drop the code bass with these musically themed...   \n",
       "5   Sites, apps, and tools built by governments ac...   \n",
       "6   These tools help you manage servers and deploy...   \n",
       "7   While the number of ways to organize JavaScrip...   \n",
       "8   Some useful and fun browser extensions to pers...   \n",
       "9   Fine examples of projects using GitHub Pages (...   \n",
       "10  Minecraft is a game about building blocks, but...   \n",
       "11  Learn or level up your 1337 gamedev skills and...   \n",
       "12             Resources to help people learn to code   \n",
       "13  Today, machine learning—the study of algorithm...   \n",
       "14  Developers in Africa use open source technolog...   \n",
       "15  Software, research, and organizations protecti...   \n",
       "16  Examples of using GitHub to store, publish, an...   \n",
       "17  A showcase of organizations showcasing their o...   \n",
       "18  From federal governments to corporations to st...   \n",
       "19  Build software faster with fewer headaches, us...   \n",
       "\n",
       "                                                  url  \n",
       "0    https://github.com/collections/choosing-projects  \n",
       "1   https://github.com/collections/clean-code-linters  \n",
       "2      https://github.com/collections/open-journalism  \n",
       "3    https://github.com/collections/design-essentials  \n",
       "4                https://github.com/collections/music  \n",
       "5           https://github.com/collections/government  \n",
       "6         https://github.com/collections/devops-tools  \n",
       "7   https://github.com/collections/front-end-javas...  \n",
       "8   https://github.com/collections/github-browser-...  \n",
       "9   https://github.com/collections/github-pages-ex...  \n",
       "10   https://github.com/collections/hacking-minecraft  \n",
       "11  https://github.com/collections/javascript-game...  \n",
       "12       https://github.com/collections/learn-to-code  \n",
       "13    https://github.com/collections/machine-learning  \n",
       "14      https://github.com/collections/made-in-africa  \n",
       "15      https://github.com/collections/net-neutrality  \n",
       "16           https://github.com/collections/open-data  \n",
       "17  https://github.com/collections/open-source-org...  \n",
       "18            https://github.com/collections/policies  \n",
       "19  https://github.com/collections/productivity-tools  "
      ]
     },
     "execution_count": 36,
     "metadata": {},
     "output_type": "execute_result"
    }
   ],
   "source": [
    "Collection_df "
   ]
  },
  {
   "cell_type": "code",
   "execution_count": 37,
   "metadata": {},
   "outputs": [],
   "source": [
    "Collection_df.to_csv('Collections of Popular Repository.csv', index = None)"
   ]
  },
  {
   "cell_type": "code",
   "execution_count": 74,
   "metadata": {},
   "outputs": [
    {
     "data": {
      "application/javascript": [
       "window.require && require([\"base/js/namespace\"],function(Jupyter){Jupyter.notebook.save_checkpoint()})"
      ],
      "text/plain": [
       "<IPython.core.display.Javascript object>"
      ]
     },
     "metadata": {},
     "output_type": "display_data"
    },
    {
     "name": "stdout",
     "output_type": "stream",
     "text": [
      "[jovian] Updating notebook \"mescanah/scraping-popular-github-collections-using-python\" on https://jovian.ai\u001b[0m\n",
      "[jovian] Committed successfully! https://jovian.ai/mescanah/scraping-popular-github-collections-using-python\u001b[0m\n"
     ]
    },
    {
     "data": {
      "text/plain": [
       "'https://jovian.ai/mescanah/scraping-popular-github-collections-using-python'"
      ]
     },
     "execution_count": 74,
     "metadata": {},
     "output_type": "execute_result"
    }
   ],
   "source": [
    "jovian.commit()"
   ]
  },
  {
   "cell_type": "markdown",
   "metadata": {},
   "source": [
    "## Getting Information Out of Each of GitHub Collection Name/Title Page Repository"
   ]
  },
  {
   "cell_type": "markdown",
   "metadata": {},
   "source": [
    "![](https://i.imgur.com/kg2MIeJ.png)"
   ]
  },
  {
   "cell_type": "code",
   "execution_count": 38,
   "metadata": {},
   "outputs": [],
   "source": [
    "collection_page_url = collect_url[0]"
   ]
  },
  {
   "cell_type": "code",
   "execution_count": 39,
   "metadata": {},
   "outputs": [
    {
     "data": {
      "text/plain": [
       "'https://github.com/collections/choosing-projects'"
      ]
     },
     "execution_count": 39,
     "metadata": {},
     "output_type": "execute_result"
    }
   ],
   "source": [
    "collection_page_url "
   ]
  },
  {
   "cell_type": "code",
   "execution_count": 40,
   "metadata": {},
   "outputs": [],
   "source": [
    "response = requests.get(collection_page_url)"
   ]
  },
  {
   "cell_type": "code",
   "execution_count": 78,
   "metadata": {},
   "outputs": [
    {
     "data": {
      "text/plain": [
       "200"
      ]
     },
     "execution_count": 78,
     "metadata": {},
     "output_type": "execute_result"
    }
   ],
   "source": [
    "response.status_code"
   ]
  },
  {
   "cell_type": "code",
   "execution_count": 38,
   "metadata": {},
   "outputs": [
    {
     "data": {
      "text/plain": [
       "103507"
      ]
     },
     "execution_count": 38,
     "metadata": {},
     "output_type": "execute_result"
    }
   ],
   "source": [
    "len(response.text)"
   ]
  },
  {
   "cell_type": "code",
   "execution_count": 41,
   "metadata": {},
   "outputs": [],
   "source": [
    "Collection_doc = BeautifulSoup(response.text, 'html.parser')"
   ]
  },
  {
   "cell_type": "markdown",
   "metadata": {},
   "source": [
    "## Scrapping Repo Username from Span tag"
   ]
  },
  {
   "cell_type": "markdown",
   "metadata": {},
   "source": [
    "![](https://i.imgur.com/Ah9fOFg.png)"
   ]
  },
  {
   "cell_type": "markdown",
   "metadata": {},
   "source": [
    "![](https://i.imgur.com/2XfnZ6B.png)"
   ]
  },
  {
   "cell_type": "code",
   "execution_count": 42,
   "metadata": {},
   "outputs": [],
   "source": [
    "username_tag = Collection_doc.find_all('span', class_ = 'text-normal')"
   ]
  },
  {
   "cell_type": "code",
   "execution_count": 43,
   "metadata": {},
   "outputs": [
    {
     "data": {
      "text/plain": [
       "[<span class=\"text-normal\">rust-lang /</span>,\n",
       " <span class=\"text-normal\">HospitalRun /</span>]"
      ]
     },
     "execution_count": 43,
     "metadata": {},
     "output_type": "execute_result"
    }
   ],
   "source": [
    "username_tag[:2]"
   ]
  },
  {
   "cell_type": "code",
   "execution_count": 44,
   "metadata": {},
   "outputs": [
    {
     "data": {
      "text/plain": [
       "5"
      ]
     },
     "execution_count": 44,
     "metadata": {},
     "output_type": "execute_result"
    }
   ],
   "source": [
    "len(username_tag)"
   ]
  },
  {
   "cell_type": "code",
   "execution_count": 45,
   "metadata": {},
   "outputs": [
    {
     "data": {
      "text/plain": [
       "'rust-lang '"
      ]
     },
     "execution_count": 45,
     "metadata": {},
     "output_type": "execute_result"
    }
   ],
   "source": [
    "username_tag[0].text.strip().replace('/', '')"
   ]
  },
  {
   "cell_type": "markdown",
   "metadata": {},
   "source": [
    "##  Scrapping Repo name from h1 tag"
   ]
  },
  {
   "cell_type": "markdown",
   "metadata": {},
   "source": [
    "![](https://i.imgur.com/LZJVpeZ.png)"
   ]
  },
  {
   "cell_type": "markdown",
   "metadata": {},
   "source": [
    "![](https://i.imgur.com/RbXQbNy.png)"
   ]
  },
  {
   "cell_type": "code",
   "execution_count": 46,
   "metadata": {},
   "outputs": [],
   "source": [
    "Repo_tag = Collection_doc.find_all('h1', class_ = 'h3')"
   ]
  },
  {
   "cell_type": "code",
   "execution_count": 47,
   "metadata": {},
   "outputs": [
    {
     "data": {
      "text/plain": [
       "<h1 class=\"h3 lh-condensed\">\n",
       "<a data-ga-click=\"Explore, go to repository, location: collection\" href=\"/rust-lang/rust\">\n",
       "<svg aria-hidden=\"true\" class=\"octicon octicon-repo Link--secondary v-align-middle mr-1\" data-view-component=\"true\" height=\"20\" version=\"1.1\" viewbox=\"0 0 16 16\" width=\"20\">\n",
       "<path d=\"M2 2.5A2.5 2.5 0 014.5 0h8.75a.75.75 0 01.75.75v12.5a.75.75 0 01-.75.75h-2.5a.75.75 0 110-1.5h1.75v-2h-8a1 1 0 00-.714 1.7.75.75 0 01-1.072 1.05A2.495 2.495 0 012 11.5v-9zm10.5-1V9h-8c-.356 0-.694.074-1 .208V2.5a1 1 0 011-1h8zM5 12.25v3.25a.25.25 0 00.4.2l1.45-1.087a.25.25 0 01.3 0L8.6 15.7a.25.25 0 00.4-.2v-3.25a.25.25 0 00-.25-.25h-3.5a.25.25 0 00-.25.25z\" fill-rule=\"evenodd\"></path>\n",
       "</svg>\n",
       "<span class=\"text-normal\">rust-lang /</span>\n",
       "        rust\n",
       "      </a>\n",
       "</h1>"
      ]
     },
     "execution_count": 47,
     "metadata": {},
     "output_type": "execute_result"
    }
   ],
   "source": [
    "Repo_tag[0]"
   ]
  },
  {
   "cell_type": "code",
   "execution_count": 48,
   "metadata": {},
   "outputs": [
    {
     "data": {
      "text/plain": [
       "'rust'"
      ]
     },
     "execution_count": 48,
     "metadata": {},
     "output_type": "execute_result"
    }
   ],
   "source": [
    "Repo_tag[0].find_all(text = True, recursive = True)[6].strip()"
   ]
  },
  {
   "cell_type": "code",
   "execution_count": 49,
   "metadata": {},
   "outputs": [
    {
     "name": "stdout",
     "output_type": "stream",
     "text": [
      "rust\n",
      "hospitalrun-frontend\n",
      "brew\n",
      "\n",
      "public-apis\n",
      "serenity\n"
     ]
    }
   ],
   "source": [
    "for i in Repo_tag:\n",
    "    try: \n",
    "        print(i.find_all(text = True, recursive = True)[6].strip())\n",
    "    \n",
    "    except:\n",
    "        \n",
    "        \n",
    "        print('')"
   ]
  },
  {
   "cell_type": "markdown",
   "metadata": {},
   "source": [
    "## scapping the a tag from  href link"
   ]
  },
  {
   "cell_type": "markdown",
   "metadata": {},
   "source": [
    "![](https://i.imgur.com/OONdQSW.png)"
   ]
  },
  {
   "cell_type": "markdown",
   "metadata": {},
   "source": [
    "![](https://i.imgur.com/jOmyV5O.png)"
   ]
  },
  {
   "cell_type": "code",
   "execution_count": 50,
   "metadata": {},
   "outputs": [
    {
     "data": {
      "text/plain": [
       "'/rust-lang/rust'"
      ]
     },
     "execution_count": 50,
     "metadata": {},
     "output_type": "execute_result"
    }
   ],
   "source": [
    "# Getting the link or url tag out of the Repo_tag\n",
    "Repo_tag[0].find('a')['href']"
   ]
  },
  {
   "cell_type": "code",
   "execution_count": 51,
   "metadata": {},
   "outputs": [
    {
     "data": {
      "text/plain": [
       "'https://github.com/rust-lang/rust'"
      ]
     },
     "execution_count": 51,
     "metadata": {},
     "output_type": "execute_result"
    }
   ],
   "source": [
    "base_url = 'https://github.com'\n",
    "Repo_url = base_url + Repo_tag[0].find('a')['href']\n",
    "Repo_url "
   ]
  },
  {
   "cell_type": "markdown",
   "metadata": {},
   "source": [
    "## Creating a function to get a single Repo_tag, Username and the Url "
   ]
  },
  {
   "cell_type": "code",
   "execution_count": 52,
   "metadata": {},
   "outputs": [],
   "source": [
    "def get_repo_infos(username_tag, Repo_tag):\n",
    "    #returns the necessary information about a repository\n",
    "    \n",
    "    username = username_tag.text.strip().replace('/', '')\n",
    "    try:\n",
    "        Repo_name   = Repo_tag.find_all(text = True, recursive = True)[6].strip()\n",
    "    \n",
    "    except:\n",
    "        Repo_name = ''\n",
    "    \n",
    "    Repo_link =  base_url + Repo_tag.find('a')['href']\n",
    "    \n",
    "    \n",
    "    return username, Repo_name, Repo_link"
   ]
  },
  {
   "cell_type": "code",
   "execution_count": 53,
   "metadata": {},
   "outputs": [
    {
     "data": {
      "text/plain": [
       "('rust-lang ', 'rust', 'https://github.com/rust-lang/rust')"
      ]
     },
     "execution_count": 53,
     "metadata": {},
     "output_type": "execute_result"
    }
   ],
   "source": [
    "get_repo_infos(username_tag[0], Repo_tag[0])"
   ]
  },
  {
   "cell_type": "markdown",
   "metadata": {},
   "source": [
    "## Creating a Pandas frame to read the Repository"
   ]
  },
  {
   "cell_type": "code",
   "execution_count": 54,
   "metadata": {},
   "outputs": [],
   "source": [
    "def get_repo_dict():\n",
    "  \n",
    "    Collection_Repo_diction = {'username': [],'Repo_name': [],'Repo_link': []}\n",
    "\n",
    "\n",
    "\n",
    "    for i in range(len(username_tag)):\n",
    "    \n",
    "        Collection_info = get_repo_infos(username_tag[i],Repo_tag[i])\n",
    "    \n",
    "        Collection_Repo_diction['username'].append(Collection_info[0])\n",
    "    \n",
    "        Collection_Repo_diction['Repo_name'].append(Collection_info[1])\n",
    "    \n",
    "        Collection_Repo_diction['Repo_link'].append(Collection_info[2])\n",
    "        \n",
    "        \n",
    "    return   pd.DataFrame(Collection_Repo_diction)   "
   ]
  },
  {
   "cell_type": "code",
   "execution_count": 56,
   "metadata": {},
   "outputs": [
    {
     "data": {
      "text/html": [
       "<div>\n",
       "<style scoped>\n",
       "    .dataframe tbody tr th:only-of-type {\n",
       "        vertical-align: middle;\n",
       "    }\n",
       "\n",
       "    .dataframe tbody tr th {\n",
       "        vertical-align: top;\n",
       "    }\n",
       "\n",
       "    .dataframe thead th {\n",
       "        text-align: right;\n",
       "    }\n",
       "</style>\n",
       "<table border=\"1\" class=\"dataframe\">\n",
       "  <thead>\n",
       "    <tr style=\"text-align: right;\">\n",
       "      <th></th>\n",
       "      <th>username</th>\n",
       "      <th>Repo_name</th>\n",
       "      <th>Repo_link</th>\n",
       "    </tr>\n",
       "  </thead>\n",
       "  <tbody>\n",
       "    <tr>\n",
       "      <th>0</th>\n",
       "      <td>rust-lang</td>\n",
       "      <td>rust</td>\n",
       "      <td>https://github.com/rust-lang/rust</td>\n",
       "    </tr>\n",
       "    <tr>\n",
       "      <th>1</th>\n",
       "      <td>HospitalRun</td>\n",
       "      <td>hospitalrun-frontend</td>\n",
       "      <td>https://github.com/HospitalRun/hospitalrun-fro...</td>\n",
       "    </tr>\n",
       "    <tr>\n",
       "      <th>2</th>\n",
       "      <td>Homebrew</td>\n",
       "      <td>brew</td>\n",
       "      <td>https://github.com/Homebrew/brew</td>\n",
       "    </tr>\n",
       "    <tr>\n",
       "      <th>3</th>\n",
       "      <td>public-apis</td>\n",
       "      <td></td>\n",
       "      <td>https://github.comhttps://www.youtube.com/embe...</td>\n",
       "    </tr>\n",
       "    <tr>\n",
       "      <th>4</th>\n",
       "      <td>SerenityOS</td>\n",
       "      <td>public-apis</td>\n",
       "      <td>https://github.com/public-apis/public-apis</td>\n",
       "    </tr>\n",
       "  </tbody>\n",
       "</table>\n",
       "</div>"
      ],
      "text/plain": [
       "       username             Repo_name  \\\n",
       "0    rust-lang                   rust   \n",
       "1  HospitalRun   hospitalrun-frontend   \n",
       "2     Homebrew                   brew   \n",
       "3  public-apis                          \n",
       "4   SerenityOS            public-apis   \n",
       "\n",
       "                                           Repo_link  \n",
       "0                  https://github.com/rust-lang/rust  \n",
       "1  https://github.com/HospitalRun/hospitalrun-fro...  \n",
       "2                   https://github.com/Homebrew/brew  \n",
       "3  https://github.comhttps://www.youtube.com/embe...  \n",
       "4         https://github.com/public-apis/public-apis  "
      ]
     },
     "execution_count": 56,
     "metadata": {},
     "output_type": "execute_result"
    }
   ],
   "source": [
    "Collection_repos_df = get_repo_dict()\n",
    "Collection_repos_df"
   ]
  },
  {
   "cell_type": "markdown",
   "metadata": {},
   "source": [
    "## Saving the Collection Repo to csv"
   ]
  },
  {
   "cell_type": "code",
   "execution_count": 57,
   "metadata": {},
   "outputs": [],
   "source": [
    "Collection_repos_df.to_csv('GitHub-Collections-Repos-Choosing-Projects.csv', index = None)"
   ]
  },
  {
   "cell_type": "code",
   "execution_count": 106,
   "metadata": {},
   "outputs": [
    {
     "data": {
      "application/javascript": [
       "window.require && require([\"base/js/namespace\"],function(Jupyter){Jupyter.notebook.save_checkpoint()})"
      ],
      "text/plain": [
       "<IPython.core.display.Javascript object>"
      ]
     },
     "metadata": {},
     "output_type": "display_data"
    },
    {
     "name": "stdout",
     "output_type": "stream",
     "text": [
      "[jovian] Updating notebook \"mescanah/scraping-popular-github-collections-using-python\" on https://jovian.ai\u001b[0m\n",
      "[jovian] Committed successfully! https://jovian.ai/mescanah/scraping-popular-github-collections-using-python\u001b[0m\n"
     ]
    },
    {
     "data": {
      "text/plain": [
       "'https://jovian.ai/mescanah/scraping-popular-github-collections-using-python'"
      ]
     },
     "execution_count": 106,
     "metadata": {},
     "output_type": "execute_result"
    }
   ],
   "source": [
    "jovian.commit()"
   ]
  },
  {
   "cell_type": "code",
   "execution_count": 58,
   "metadata": {},
   "outputs": [
    {
     "data": {
      "text/plain": [
       "['https://github.com/collections/choosing-projects',\n",
       " 'https://github.com/collections/clean-code-linters',\n",
       " 'https://github.com/collections/open-journalism',\n",
       " 'https://github.com/collections/design-essentials',\n",
       " 'https://github.com/collections/music',\n",
       " 'https://github.com/collections/government',\n",
       " 'https://github.com/collections/devops-tools',\n",
       " 'https://github.com/collections/front-end-javascript-frameworks',\n",
       " 'https://github.com/collections/github-browser-extensions',\n",
       " 'https://github.com/collections/github-pages-examples',\n",
       " 'https://github.com/collections/hacking-minecraft',\n",
       " 'https://github.com/collections/javascript-game-engines',\n",
       " 'https://github.com/collections/learn-to-code',\n",
       " 'https://github.com/collections/machine-learning',\n",
       " 'https://github.com/collections/made-in-africa',\n",
       " 'https://github.com/collections/net-neutrality',\n",
       " 'https://github.com/collections/open-data',\n",
       " 'https://github.com/collections/open-source-organizations',\n",
       " 'https://github.com/collections/policies',\n",
       " 'https://github.com/collections/productivity-tools']"
      ]
     },
     "execution_count": 58,
     "metadata": {},
     "output_type": "execute_result"
    }
   ],
   "source": [
    "collect_url "
   ]
  },
  {
   "cell_type": "code",
   "execution_count": 59,
   "metadata": {},
   "outputs": [],
   "source": [
    "url3 = collect_url[3]\n"
   ]
  },
  {
   "cell_type": "code",
   "execution_count": 60,
   "metadata": {},
   "outputs": [],
   "source": [
    "import os\n",
    "def get_collection_page(collect_url):\n",
    "    \n",
    "    # Download the page\n",
    "    response = requests.get(collect_url)\n",
    "    \n",
    "    # Check successful download of website or response\n",
    "    \n",
    "    if response.status_code != 200:\n",
    "        raise Exception('Failed to load page {}'.format(collect_url))\n",
    "    # Parse using BeautifulSoup    \n",
    "    Collection_doc = BeautifulSoup(response.text, 'html.parser')\n",
    "\n",
    "    return Collection_doc\n",
    "\n",
    "\n",
    "def get_collection_repos(Collection_doc):\n",
    "    \n",
    "    # Get span tag containing username\n",
    "    username_tag = Collection_doc.find_all('span', class_ = 'text-normal')\n",
    "    \n",
    "    # Get hi tag containing Repo name and Repo url or link\n",
    "    Repo_tag = Collection_doc.find_all('h1', class_ = 'h3')\n",
    "    \n",
    "    \n",
    "    \n",
    "    # Get Repo information\n",
    "    \n",
    "    Collection_Repo_dict = {'username': [],'Repo_name': [],'Repo_link': []}\n",
    "\n",
    "\n",
    "    \n",
    "    for i in range(len(username_tag)):\n",
    "    \n",
    "        Collection_info = get_repo_infos(username_tag[i],Repo_tag[i])\n",
    "    \n",
    "        Collection_Repo_dict['username'].append(Collection_info[0])\n",
    "    \n",
    "        Collection_Repo_dict['Repo_name'].append(Collection_info[1])\n",
    "    \n",
    "        Collection_Repo_dict['Repo_link'].append(Collection_info[2])\n",
    "    \n",
    "    \n",
    "    return pd.DataFrame(Collection_Repo_dict)\n",
    "\n",
    "\n",
    "def  scrape_collections(collect_url, path):\n",
    "    \n",
    "    if os.path.exists(path):\n",
    "        \n",
    "        print(\"The file {} already exists. Skipping.... \".format(path))\n",
    "        return \n",
    "        \n",
    "    Collection_df = get_collection_repos(get_collection_page(collect_url))\n",
    "    \n",
    "    Collection_df.to_csv(path, index = None)\n",
    "    \n",
    "    \n",
    "    \n",
    "def scrape_gitcollection_repos():\n",
    "    \n",
    "    print('scrapping list of github collections')\n",
    "    Collection_df = scrape_gitcollections()\n",
    "    \n",
    "    os.makedirs('project1_data', exist_ok = True)\n",
    "    \n",
    "    for index, row in Collection_df.iterrows():\n",
    "        \n",
    "        print('Scraping top repository for  \"{}\"'.format(row['title']))\n",
    "        \n",
    "        scrape_collections(row['url'], 'project1_data/{}.csv'.format(row['title']))"
   ]
  },
  {
   "cell_type": "code",
   "execution_count": 61,
   "metadata": {},
   "outputs": [],
   "source": [
    "collect3_doc = get_collection_page(url3)"
   ]
  },
  {
   "cell_type": "code",
   "execution_count": 62,
   "metadata": {},
   "outputs": [],
   "source": [
    "DesignEssential_collect3= get_collection_repos(collect3_doc)"
   ]
  },
  {
   "cell_type": "code",
   "execution_count": 63,
   "metadata": {},
   "outputs": [
    {
     "data": {
      "text/html": [
       "<div>\n",
       "<style scoped>\n",
       "    .dataframe tbody tr th:only-of-type {\n",
       "        vertical-align: middle;\n",
       "    }\n",
       "\n",
       "    .dataframe tbody tr th {\n",
       "        vertical-align: top;\n",
       "    }\n",
       "\n",
       "    .dataframe thead th {\n",
       "        text-align: right;\n",
       "    }\n",
       "</style>\n",
       "<table border=\"1\" class=\"dataframe\">\n",
       "  <thead>\n",
       "    <tr style=\"text-align: right;\">\n",
       "      <th></th>\n",
       "      <th>username</th>\n",
       "      <th>Repo_name</th>\n",
       "      <th>Repo_link</th>\n",
       "    </tr>\n",
       "  </thead>\n",
       "  <tbody>\n",
       "    <tr>\n",
       "      <th>0</th>\n",
       "      <td>twbs</td>\n",
       "      <td>bootstrap</td>\n",
       "      <td>https://github.com/twbs/bootstrap</td>\n",
       "    </tr>\n",
       "    <tr>\n",
       "      <th>1</th>\n",
       "      <td>animate-css</td>\n",
       "      <td>animate.css</td>\n",
       "      <td>https://github.com/animate-css/animate.css</td>\n",
       "    </tr>\n",
       "    <tr>\n",
       "      <th>2</th>\n",
       "      <td>nathansmith</td>\n",
       "      <td>960-Grid-System</td>\n",
       "      <td>https://github.com/nathansmith/960-Grid-System</td>\n",
       "    </tr>\n",
       "    <tr>\n",
       "      <th>3</th>\n",
       "      <td>necolas</td>\n",
       "      <td>normalize.css</td>\n",
       "      <td>https://github.com/necolas/normalize.css</td>\n",
       "    </tr>\n",
       "    <tr>\n",
       "      <th>4</th>\n",
       "      <td>ionic-team</td>\n",
       "      <td>ionicons</td>\n",
       "      <td>https://github.com/ionic-team/ionicons</td>\n",
       "    </tr>\n",
       "    <tr>\n",
       "      <th>5</th>\n",
       "      <td>designmodo</td>\n",
       "      <td>Flat-UI</td>\n",
       "      <td>https://github.com/designmodo/Flat-UI</td>\n",
       "    </tr>\n",
       "    <tr>\n",
       "      <th>6</th>\n",
       "      <td>h5bp</td>\n",
       "      <td>html5-boilerplate</td>\n",
       "      <td>https://github.com/h5bp/html5-boilerplate</td>\n",
       "    </tr>\n",
       "    <tr>\n",
       "      <th>7</th>\n",
       "      <td>foundation</td>\n",
       "      <td>foundation-sites</td>\n",
       "      <td>https://github.com/foundation/foundation-sites</td>\n",
       "    </tr>\n",
       "    <tr>\n",
       "      <th>8</th>\n",
       "      <td>Modernizr</td>\n",
       "      <td>Modernizr</td>\n",
       "      <td>https://github.com/Modernizr/Modernizr</td>\n",
       "    </tr>\n",
       "    <tr>\n",
       "      <th>9</th>\n",
       "      <td>twbs</td>\n",
       "      <td>ratchet</td>\n",
       "      <td>https://github.com/twbs/ratchet</td>\n",
       "    </tr>\n",
       "    <tr>\n",
       "      <th>10</th>\n",
       "      <td>IanLunn</td>\n",
       "      <td>Hover</td>\n",
       "      <td>https://github.com/IanLunn/Hover</td>\n",
       "    </tr>\n",
       "    <tr>\n",
       "      <th>11</th>\n",
       "      <td>connors</td>\n",
       "      <td>photon</td>\n",
       "      <td>https://github.com/connors/photon</td>\n",
       "    </tr>\n",
       "    <tr>\n",
       "      <th>12</th>\n",
       "      <td>basscss</td>\n",
       "      <td>basscss</td>\n",
       "      <td>https://github.com/basscss/basscss</td>\n",
       "    </tr>\n",
       "    <tr>\n",
       "      <th>13</th>\n",
       "      <td>atlemo</td>\n",
       "      <td>SubtlePatterns</td>\n",
       "      <td>https://github.com/atlemo/SubtlePatterns</td>\n",
       "    </tr>\n",
       "    <tr>\n",
       "      <th>14</th>\n",
       "      <td>mrmrs</td>\n",
       "      <td>colors</td>\n",
       "      <td>https://github.com/mrmrs/colors</td>\n",
       "    </tr>\n",
       "  </tbody>\n",
       "</table>\n",
       "</div>"
      ],
      "text/plain": [
       "        username          Repo_name  \\\n",
       "0          twbs           bootstrap   \n",
       "1   animate-css         animate.css   \n",
       "2   nathansmith     960-Grid-System   \n",
       "3       necolas       normalize.css   \n",
       "4    ionic-team            ionicons   \n",
       "5    designmodo             Flat-UI   \n",
       "6          h5bp   html5-boilerplate   \n",
       "7    foundation    foundation-sites   \n",
       "8     Modernizr           Modernizr   \n",
       "9          twbs             ratchet   \n",
       "10      IanLunn               Hover   \n",
       "11      connors              photon   \n",
       "12      basscss             basscss   \n",
       "13       atlemo      SubtlePatterns   \n",
       "14        mrmrs              colors   \n",
       "\n",
       "                                         Repo_link  \n",
       "0                https://github.com/twbs/bootstrap  \n",
       "1       https://github.com/animate-css/animate.css  \n",
       "2   https://github.com/nathansmith/960-Grid-System  \n",
       "3         https://github.com/necolas/normalize.css  \n",
       "4           https://github.com/ionic-team/ionicons  \n",
       "5            https://github.com/designmodo/Flat-UI  \n",
       "6        https://github.com/h5bp/html5-boilerplate  \n",
       "7   https://github.com/foundation/foundation-sites  \n",
       "8           https://github.com/Modernizr/Modernizr  \n",
       "9                  https://github.com/twbs/ratchet  \n",
       "10                https://github.com/IanLunn/Hover  \n",
       "11               https://github.com/connors/photon  \n",
       "12              https://github.com/basscss/basscss  \n",
       "13        https://github.com/atlemo/SubtlePatterns  \n",
       "14                 https://github.com/mrmrs/colors  "
      ]
     },
     "execution_count": 63,
     "metadata": {},
     "output_type": "execute_result"
    }
   ],
   "source": [
    "DesignEssential_collect3"
   ]
  },
  {
   "cell_type": "code",
   "execution_count": 64,
   "metadata": {},
   "outputs": [],
   "source": [
    "DesignEssential_collect3.to_csv('DesignEssentials_Repo.csv', index = None)"
   ]
  },
  {
   "cell_type": "code",
   "execution_count": 65,
   "metadata": {},
   "outputs": [],
   "source": [
    "get_collection_repos(get_collection_page(collect_url[1])).to_csv('cleancodelinters_Repo.csv', index = None) \n"
   ]
  },
  {
   "cell_type": "code",
   "execution_count": 93,
   "metadata": {},
   "outputs": [
    {
     "data": {
      "application/javascript": [
       "window.require && require([\"base/js/namespace\"],function(Jupyter){Jupyter.notebook.save_checkpoint()})"
      ],
      "text/plain": [
       "<IPython.core.display.Javascript object>"
      ]
     },
     "metadata": {},
     "output_type": "display_data"
    },
    {
     "name": "stdout",
     "output_type": "stream",
     "text": [
      "[jovian] Updating notebook \"mescanah/scraping-popular-github-collections-using-python\" on https://jovian.ai\u001b[0m\n",
      "[jovian] Committed successfully! https://jovian.ai/mescanah/scraping-popular-github-collections-using-python\u001b[0m\n"
     ]
    },
    {
     "data": {
      "text/plain": [
       "'https://jovian.ai/mescanah/scraping-popular-github-collections-using-python'"
      ]
     },
     "execution_count": 93,
     "metadata": {},
     "output_type": "execute_result"
    }
   ],
   "source": [
    "jovian.commit()"
   ]
  },
  {
   "cell_type": "markdown",
   "metadata": {},
   "source": [
    "\n",
    "## write a single function to: \n",
    "\n",
    "1. Get the list of Collection from the Github Collection page\n",
    "\n",
    "2. Get the list of top repos from the individual Github Collection page\n",
    "\n",
    "3. For each GitHub Collection, create a CSV file of the top repos for the collection \n",
    "\n"
   ]
  },
  {
   "cell_type": "markdown",
   "metadata": {},
   "source": [
    "##  This is a fuction to get  list of Collection from the Github Collection page"
   ]
  },
  {
   "cell_type": "code",
   "execution_count": 66,
   "metadata": {},
   "outputs": [],
   "source": [
    "#This is be used to get the list of titles and the doc came from the Parsed webpage.\n",
    "def get_Collection_titles(doc):\n",
    "    \n",
    "    Colect_title_tag = doc.find_all('h2', class_ = 'h3')\n",
    "    \n",
    "    Collection_titl = []\n",
    "    \n",
    "    for title in Colect_title_tag:\n",
    "        \n",
    "         Collection_titl.append(title.get_text())\n",
    "    \n",
    "    return Collection_titl \n",
    "\n",
    "\n",
    "#This is used to get the list of the title description\n",
    "def get_Collection_desc(doc):\n",
    "    \n",
    "    Collect_description_tag = doc.find_all('div', class_ = 'col-10 col-md-11')\n",
    "    \n",
    "    Collect_description = []\n",
    "    for i in Collect_description_tag:\n",
    "    \n",
    "        Collect_description.append(i.find_all(text= True, recursive = True)[2].strip())\n",
    "    \n",
    "    return Collect_description \n",
    "\n",
    "\n",
    "#This is used to get the repository url\n",
    "def get_Collection_url(doc):\n",
    "    \n",
    "    collect_url = []\n",
    "    base_url = 'https://github.com'\n",
    "    for link in Colect_link_tag:\n",
    "        collect_url.append(base_url + link.find('a')['href'])\n",
    "    return collect_url \n",
    "\n",
    "\n",
    "\n",
    "#This is used to put every of the function in Pandas Frame    \n",
    "def scrape_gitcollections():\n",
    "\n",
    "    Collections_url = 'https://github.com/collections'\n",
    "    response = requests.get(Collections_url)\n",
    "\n",
    "    if response.status_code != 200:\n",
    "        raise Exception('failed to load page {}'.format(Collections_url))    \n",
    "\n",
    "    collection_dict = {\n",
    "        \n",
    "        'title': get_Collection_titles(doc),\n",
    "        \n",
    "        'description': get_Collection_desc(doc),\n",
    "        \n",
    "        'url': get_Collection_url(doc)\n",
    "   \n",
    "    }    \n",
    "    return pd.DataFrame(collection_dict)"
   ]
  },
  {
   "cell_type": "code",
   "execution_count": 67,
   "metadata": {},
   "outputs": [
    {
     "name": "stdout",
     "output_type": "stream",
     "text": [
      "scrapping list of github collections\n",
      "Scraping top repository for  \"How to choose (and contribute to) your first open source project\"\n",
      "Scraping top repository for  \"Clean code linters\"\n",
      "Scraping top repository for  \"Open journalism\"\n",
      "Scraping top repository for  \"Design essentials\"\n",
      "Scraping top repository for  \"Music\"\n",
      "Scraping top repository for  \"Government apps\"\n",
      "Scraping top repository for  \"DevOps tools\"\n",
      "Scraping top repository for  \"Front-end JavaScript frameworks\"\n",
      "Scraping top repository for  \"GitHub Browser Extensions\"\n",
      "Scraping top repository for  \"GitHub Pages examples\"\n",
      "Scraping top repository for  \"Hacking Minecraft\"\n",
      "Scraping top repository for  \"JavaScript Game Engines\"\n",
      "Scraping top repository for  \"Learn to Code\"\n",
      "Scraping top repository for  \"Getting started with machine learning\"\n",
      "Scraping top repository for  \"Made in Africa\"\n",
      "Scraping top repository for  \"Net neutrality\"\n",
      "Scraping top repository for  \"Open data\"\n",
      "Scraping top repository for  \"Open source organizations\"\n",
      "Scraping top repository for  \"Policies\"\n",
      "Scraping top repository for  \"Software productivity tools\"\n"
     ]
    }
   ],
   "source": [
    "scrape_gitcollection_repos()"
   ]
  },
  {
   "cell_type": "code",
   "execution_count": 68,
   "metadata": {},
   "outputs": [
    {
     "data": {
      "application/javascript": [
       "window.require && require([\"base/js/namespace\"],function(Jupyter){Jupyter.notebook.save_checkpoint()})"
      ],
      "text/plain": [
       "<IPython.core.display.Javascript object>"
      ]
     },
     "metadata": {},
     "output_type": "display_data"
    },
    {
     "name": "stdout",
     "output_type": "stream",
     "text": [
      "[jovian] Updating notebook \"mescanah/scraping-popular-github-collections-using-python\" on https://jovian.ai\u001b[0m\n",
      "[jovian] Committed successfully! https://jovian.ai/mescanah/scraping-popular-github-collections-using-python\u001b[0m\n"
     ]
    },
    {
     "data": {
      "text/plain": [
       "'https://jovian.ai/mescanah/scraping-popular-github-collections-using-python'"
      ]
     },
     "execution_count": 68,
     "metadata": {},
     "output_type": "execute_result"
    }
   ],
   "source": [
    "jovian.commit()"
   ]
  },
  {
   "cell_type": "markdown",
   "metadata": {},
   "source": [
    "## Summary\n",
    "\n",
    "\n",
    "i.The webpage was downloaded using requests\n",
    "\n",
    "\n",
    "ii.The Html source code was parsed using BeautifulSoup4 \n",
    "\n",
    "iii.I extracted the GitHub Repository Collection names, descriptions of the name and the Url from the pages\n",
    "\n",
    "iv. I Compiled the extracted information into python list and dictionaries\n",
    "\n",
    "v. I also extracted and combine data from multiple pages and read with Pandas Frame\n",
    "\n",
    "vi. The extracted data was Saved  to csv file \n",
    "\n",
    "vii. The csv file is stored as project1_data"
   ]
  },
  {
   "cell_type": "code",
   "execution_count": null,
   "metadata": {},
   "outputs": [],
   "source": []
  },
  {
   "cell_type": "markdown",
   "metadata": {},
   "source": [
    "## Future Work\n",
    "\n",
    " i. There are posibility of  scraping the repository to get get additional information about each individual collections.\n",
    "\n",
    "ii. There are also posibility of  analyzing this data to get the total number of GitHub collections in the repository\n",
    "\n"
   ]
  },
  {
   "cell_type": "markdown",
   "metadata": {},
   "source": []
  },
  {
   "cell_type": "markdown",
   "metadata": {},
   "source": [
    "## Reference \n",
    "\n",
    "     \n",
    "i.   https://datagy.io/python-requests/   (#link to request documentation)\n",
    " \n",
    "    \n",
    "ii.  https://beautiful-soup-4.readthedocs.io/en/latest/  (#Link to Beautiful Soup documentation)\n",
    "\n",
    "     \n",
    "iii.  https://pandas.pydata.org/pandas-docs/stable/user_guide/index.html (#Link to Pandas documentation)\n"
   ]
  },
  {
   "cell_type": "code",
   "execution_count": null,
   "metadata": {},
   "outputs": [],
   "source": []
  }
 ],
 "metadata": {
  "language_info": {
   "codemirror_mode": {
    "name": "ipython",
    "version": 3
   },
   "file_extension": ".py",
   "mimetype": "text/x-python",
   "name": "python",
   "nbconvert_exporter": "python",
   "pygments_lexer": "ipython3",
   "version": "3.9.7"
  }
 },
 "nbformat": 4,
 "nbformat_minor": 2
}